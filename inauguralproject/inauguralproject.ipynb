{
 "cells": [
  {
   "cell_type": "markdown",
   "metadata": {},
   "source": [
    "# Inaugural Project"
   ]
  },
  {
   "cell_type": "markdown",
   "metadata": {},
   "source": [
    "> **Note the following:** \n",
    "> 1. This is an example of how to structure your **inaugural project**.\n",
    "> 1. Remember the general advice on structuring and commenting your code from [lecture 5](https://numeconcopenhagen.netlify.com/lectures/Workflow_and_debugging).\n",
    "> 1. Remember this [guide](https://www.markdownguide.org/basic-syntax/) on markdown and (a bit of) latex.\n",
    "> 1. Turn on automatic numbering by clicking on the small icon on top of the table of contents in the left sidebar.\n",
    "> 1. The `inauguralproject.py` file includes a function which can be used multiple times in this notebook."
   ]
  },
  {
   "cell_type": "markdown",
   "metadata": {},
   "source": [
    "Imports and set magics:"
   ]
  },
  {
   "cell_type": "code",
   "execution_count": 98,
   "metadata": {},
   "outputs": [
    {
     "name": "stdout",
     "output_type": "stream",
     "text": [
      "The autoreload extension is already loaded. To reload it, use:\n",
      "  %reload_ext autoreload\n"
     ]
    }
   ],
   "source": [
    "import numpy as np\n",
    "from scipy import optimize\n",
    "import matplotlib.pyplot as plt\n",
    "from scipy.stats import beta\n",
    "from scipy import stats\n",
    "\n",
    "# autoreload modules when code is run. Otherwise, python will not see recent changes. \n",
    "%load_ext autoreload\n",
    "%autoreload 2\n",
    "\n",
    "# Import your own code\n",
    "from inauguralproject import *"
   ]
  },
  {
   "cell_type": "markdown",
   "metadata": {},
   "source": [
    "## Question 1"
   ]
  },
  {
   "cell_type": "markdown",
   "metadata": {},
   "source": [
    "**Explain how you solve the model**"
   ]
  },
  {
   "cell_type": "code",
   "execution_count": 99,
   "metadata": {},
   "outputs": [
    {
     "data": {
      "image/png": "[encoded data removed]",
      "text/plain": [
       "<Figure size 432x288 with 1 Axes>"
      ]
     },
     "metadata": {
      "needs_background": "light"
     },
     "output_type": "display_data"
    }
   ],
   "source": [
    "# Defining the utility function\n",
    "def utility(z):\n",
    "    return z**(1+v)/(1+v)\n",
    "\n",
    "# Defining the expected utility if no insurance\n",
    "def exp_value_noins(x,y,p):\n",
    "    return p*utility(y-x)+(1-p)*utility(y)\n",
    "\n",
    "# Defining the expected utility if insured \n",
    "def exp_value_ins(x,y,p,q):\n",
    "    return p*utility(y-x+q-p*q)+(1-p)*utility(y-p*q)\n",
    "\n",
    "# Defining the the objective function which should be optimized. Running a loop for each x to find the corresponding optimal q*\n",
    "def Q1obj(x_vec,y,p):\n",
    "    for i, x in enumerate(x_vec):\n",
    "        obj = lambda q: -exp_value_ins(x,y,p,q)\n",
    "        res = optimize.minimize_scalar(obj,bounds=(0,x),method = 'bounded')\n",
    "        q[i] = res.x\n",
    "\n",
    "\n",
    "\n",
    "# Defining parameters used for question 1\n",
    "v = -2\n",
    "y = 1\n",
    "p = 0.2\n",
    "N = 10 # N is the number of 'checks' we make for each x and q\n",
    "x_vec = np.linspace(0.01,0.9,N) #x_vec is defined as range between 0.01 and 0.9 with N (10) evenly spaced values\n",
    "q = np.empty(x_vec.size)\n",
    "\n",
    "Q1obj(x_vec,y,p)\n",
    " \n",
    "fig = plt.figure()\n",
    "ax = fig.add_subplot(1,1,1)\n",
    " \n",
    "ax.plot(x_vec,q,ls='--',lw=2,color='black',label='$q***$')\n",
    "ax.plot(x_vec,q,ls='',marker='s',label='best')\n",
    " \n",
    "ax.set_xlabel('x')\n",
    "ax.set_ylabel('q')\n",
    "ax.legend(loc='lower center',frameon=True);"
   ]
  },
  {
   "cell_type": "raw",
   "metadata": {},
   "source": [
    "Inuitition:\n",
    "\n",
    "The result suggest that the optimal insurance scheme from the agent's point of view is to have full insurance. This is also what we would expect from theory."
   ]
  },
  {
   "cell_type": "markdown",
   "metadata": {},
   "source": [
    "## Question 2"
   ]
  },
  {
   "cell_type": "markdown",
   "metadata": {},
   "source": [
    "Explain your code and procedure"
   ]
  },
  {
   "cell_type": "code",
   "execution_count": 100,
   "metadata": {},
   "outputs": [
    {
     "data": {
      "image/png": "[encoded data removed]",
      "text/plain": [
       "<Figure size 432x288 with 1 Axes>"
      ]
     },
     "metadata": {
      "needs_background": "light"
     },
     "output_type": "display_data"
    }
   ],
   "source": [
    "# The expected utility when insured now takes PI as an variable and not a function of p and q.\n",
    "def exp_value_ins(pi,x,y,p,q):\n",
    "    return p*utility(y-x+q-pi)+(1-p)*utility(y-pi)\n",
    " \n",
    "# If the agent should be indifferent between insurance and not, the difference between expected utility when insured and not should be zero\n",
    "def diff(pi,q):\n",
    "    return np.absolute(exp_value_ins(pi,x,y,p,q)-exp_value_noins(x,y,p))\n",
    "\n",
    "# Finding the corresponding PI that ensures indifference for each q.\n",
    "def Q2obj(pi_vec):\n",
    "    for i,q in enumerate(q2_vec):\n",
    "        obj = lambda pi: diff(pi,q)\n",
    "        res = optimize.minimize_scalar(obj,bounds=(0,q),method = 'bounded')\n",
    "        pi_vec[i] = res.x\n",
    "\n",
    "\n",
    "# Parameters for question 2\n",
    "x = 0.6\n",
    "q2_vec = np.linspace(0.01,0.6,N)\n",
    "pi_vec = np.empty(q2_vec.size)\n",
    "pi = p*q2_vec\n",
    "\n",
    "Q2obj(pi_vec)\n",
    " \n",
    "fig = plt.figure()\n",
    "ax = fig.add_subplot(1,1,1)\n",
    " \n",
    "ax.plot(q2_vec,pi_vec,ls='-',lw=2,color='red',label='Acceptable premiums')\n",
    "ax.plot(q2_vec,pi,ls='-',lw=2,color='green',label='Pi')\n",
    "ax.fill_between(q2_vec, pi, pi_vec, facecolor=\"red\", alpha=0.05)\n",
    " \n",
    "ax.set_xlabel('q')\n",
    "ax.set_ylabel('premiums')\n",
    "ax.legend(loc='lower center',frameon=True);"
   ]
  },
  {
   "cell_type": "raw",
   "metadata": {},
   "source": [
    "The graph suggest that the inssurance company could raise the premiums from question 1 without the agent leaving and thus increase the profit of the insurance company."
   ]
  },
  {
   "cell_type": "markdown",
   "metadata": {},
   "source": [
    "## Question 3"
   ]
  },
  {
   "cell_type": "markdown",
   "metadata": {},
   "source": [
    "Explain your code and procedure"
   ]
  },
  {
   "cell_type": "code",
   "execution_count": 101,
   "metadata": {},
   "outputs": [
    {
     "name": "stdout",
     "output_type": "stream",
     "text": [
      "The first insurance policy is preferable and yields a value of -1.28604\n"
     ]
    }
   ],
   "source": [
    "# Parameters for question 3\n",
    "\n",
    "a = 2\n",
    "b = 7\n",
    "N = 10**5\n",
    "\n",
    "# Defining the montecarlo function which returns the mean of 10.000 draws from the beta distribution of x\n",
    "def montecarlo(a,b,N,gamma,pi):\n",
    "    x = np.random.beta(a,b,N)\n",
    "    return np.mean(utility(y-(1-gamma)*x-pi))\n",
    "\n",
    "# Defining the two insurance schemes\n",
    "ins1 = montecarlo(a,b,N,gamma = 0.9, pi = 0.2)\n",
    "ins2 = montecarlo(a,b,N,gamma = 0.45, pi = 0.1)\n",
    "\n",
    "# Comparing the two insurance schemes\n",
    "if ins1 > ins2:\n",
    "    print(f'The first insurance policy is preferable and yields a value of {ins1:.5f}')\n",
    "else:\n",
    "    print(f'The second insurance policy is preferable and yields a value of {ins2:.5f}')"
   ]
  },
  {
   "cell_type": "markdown",
   "metadata": {},
   "source": [
    "## Question 4"
   ]
  },
  {
   "cell_type": "code",
   "execution_count": 106,
   "metadata": {},
   "outputs": [
    {
     "name": "stdout",
     "output_type": "stream",
     "text": [
      "Profit maximizing premium is : 0.23866\n"
     ]
    }
   ],
   "source": [
    "#Definition of value of montecarlo draws from Question 3 just renamed for insured agent\n",
    "def montecarlo_ins(a,b,N,gamma,pi):\n",
    "    x = np.random.beta(a,b,N)\n",
    "    return np.mean(utility(y-(1-gamma)*x-pi))\n",
    " \n",
    "#Value of montecarlo draws for uninsured agent\n",
    "def montecarlo_noins(a,b,N,gamma,pi):\n",
    "    x = np.random.beta(a,b,N)\n",
    "    return np.mean(utility(y-x))\n",
    " \n",
    "gamma = 0.95\n",
    "#Objective obj is absolute value of difference between value for insured and uninsured agent\n",
    "obj = lambda pi: np.absolute((montecarlo_ins(a,b,N,gamma,pi)-montecarlo_noins(a,b,N,gamma,pi)))\n",
    "#Optimize with guess = 0.1\n",
    "res = optimize.root(obj,0.1,method='broyden1')\n",
    "pi = res.x\n",
    "print(f'Profit maximizing premium is : {pi:.5f}')"
   ]
  },
  {
   "cell_type": "code",
   "execution_count": null,
   "metadata": {},
   "outputs": [],
   "source": []
  }
 ],
 "metadata": {
  "kernelspec": {
   "display_name": "Python 3 (ipykernel)",
   "language": "python",
   "name": "python3"
  },
  "language_info": {
   "codemirror_mode": {
    "name": "ipython",
    "version": 3
   },
   "file_extension": ".py",
   "mimetype": "text/x-python",
   "name": "python",
   "nbconvert_exporter": "python",
   "pygments_lexer": "ipython3",
   "version": "3.9.7"
  },
  "toc-autonumbering": true
 },
 "nbformat": 4,
 "nbformat_minor": 4
}
